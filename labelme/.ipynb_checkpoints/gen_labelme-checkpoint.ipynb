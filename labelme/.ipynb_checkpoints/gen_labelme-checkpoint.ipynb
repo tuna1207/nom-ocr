{
 "cells": [
  {
   "cell_type": "code",
   "execution_count": 1,
   "metadata": {},
   "outputs": [],
   "source": [
    "import os\n",
    "import base64\n",
    "import cv2\n",
    "\n",
    "from PIL import Image"
   ]
  },
  {
   "cell_type": "code",
   "execution_count": 2,
   "metadata": {},
   "outputs": [],
   "source": [
    "data_path = '../data/'\n",
    "\n",
    "txt_path ='../Craft/text_result/'\n",
    "\n",
    "image_path = os.listdir(data_path)\n",
    "txt_file = os.listdir(txt_path)"
   ]
  },
  {
   "cell_type": "code",
   "execution_count": 6,
   "metadata": {
    "scrolled": true
   },
   "outputs": [
    {
     "name": "stdout",
     "output_type": "stream",
     "text": [
      "../Craft/text_result/res_IMG_20190920_191835.txt ../data/res_IMG_20190920_191835.jpg\n"
     ]
    },
    {
     "ename": "error",
     "evalue": "OpenCV(4.1.1) /io/opencv/modules/imgcodecs/src/loadsave.cpp:879: error: (-2:Unspecified error) could not find encoder for the specified extension in function 'imencode'\n",
     "output_type": "error",
     "traceback": [
      "\u001b[0;31m---------------------------------------------------------------------------\u001b[0m",
      "\u001b[0;31merror\u001b[0m                                     Traceback (most recent call last)",
      "\u001b[0;32m<ipython-input-6-fb7572191c03>\u001b[0m in \u001b[0;36m<module>\u001b[0;34m\u001b[0m\n\u001b[1;32m     23\u001b[0m \u001b[0;31m#     gen base64 string\u001b[0m\u001b[0;34m\u001b[0m\u001b[0;34m\u001b[0m\u001b[0;34m\u001b[0m\u001b[0m\n\u001b[1;32m     24\u001b[0m     \u001b[0mimg\u001b[0m \u001b[0;34m=\u001b[0m \u001b[0mcv2\u001b[0m\u001b[0;34m.\u001b[0m\u001b[0mimread\u001b[0m\u001b[0;34m(\u001b[0m\u001b[0mdata_path\u001b[0m\u001b[0;34m+\u001b[0m \u001b[0miii\u001b[0m\u001b[0;34m,\u001b[0m\u001b[0mcv2\u001b[0m\u001b[0;34m.\u001b[0m\u001b[0mCOLOR_BGR2RGB\u001b[0m\u001b[0;34m)\u001b[0m\u001b[0;34m\u001b[0m\u001b[0;34m\u001b[0m\u001b[0m\n\u001b[0;32m---> 25\u001b[0;31m     \u001b[0mretval\u001b[0m\u001b[0;34m,\u001b[0m \u001b[0mbuffer\u001b[0m \u001b[0;34m=\u001b[0m \u001b[0mcv2\u001b[0m\u001b[0;34m.\u001b[0m\u001b[0mimencode\u001b[0m\u001b[0;34m(\u001b[0m\u001b[0miii\u001b[0m\u001b[0;34m,\u001b[0m\u001b[0mimg\u001b[0m\u001b[0;34m)\u001b[0m\u001b[0;34m\u001b[0m\u001b[0;34m\u001b[0m\u001b[0m\n\u001b[0m\u001b[1;32m     26\u001b[0m     \u001b[0mjpg_as_text\u001b[0m \u001b[0;34m=\u001b[0m \u001b[0mbase64\u001b[0m\u001b[0;34m.\u001b[0m\u001b[0mb64encode\u001b[0m\u001b[0;34m(\u001b[0m\u001b[0mbuffer\u001b[0m\u001b[0;34m)\u001b[0m\u001b[0;34m.\u001b[0m\u001b[0mdecode\u001b[0m\u001b[0;34m(\u001b[0m\u001b[0;34m\"utf-8\"\u001b[0m\u001b[0;34m)\u001b[0m\u001b[0;34m\u001b[0m\u001b[0;34m\u001b[0m\u001b[0m\n\u001b[1;32m     27\u001b[0m \u001b[0;34m\u001b[0m\u001b[0m\n",
      "\u001b[0;31merror\u001b[0m: OpenCV(4.1.1) /io/opencv/modules/imgcodecs/src/loadsave.cpp:879: error: (-2:Unspecified error) could not find encoder for the specified extension in function 'imencode'\n"
     ]
    }
   ],
   "source": [
    "for iii in txt_file:\n",
    "    txt_file_res = txt_path + iii\n",
    "    image = data_path + iii[0:-4]+'.jpg'\n",
    "    \n",
    "    print(txt_file_res,image)\n",
    "\n",
    "#     line version\n",
    "    line_shape = '{\"version\": \"3.16.7\",\"flags\": {},\"shapes\": ['\n",
    "    \n",
    "#     line shape\n",
    "    with open(txt_file_res,'r') as file_text:\n",
    "        for i in file_text:\n",
    "            i = i.rstrip().split(',')        \n",
    "            string_save_before = '{\"label\": \"label1\",\"line_color\": null,\"fill_color\": null,\"points\": ['\n",
    "            string_save = '['+i[0]+','+i[1]+'],'+'['+i[2]+','+i[3]+'],'+'['+i[4]+','+i[5]+'],'+'['+i[6]+','+i[7]+']'\n",
    "            string_save_after = '],\"shape_type\": \"polygon\",\"flags\":{}},'\n",
    "\n",
    "            line_shape = line_shape + string_save_before+ string_save+string_save_after\n",
    "\n",
    "    line_shape = line_shape[0:-1] +'], \"lineColor\": [ 0, 255, 0, 128 ], \"fillColor\": [ 255, 0, 0, 128 ],'\n",
    "    line_shape = line_shape + '\"imagePath\": \"'+image+'\",' + '\"imageData\": \"'\n",
    "\n",
    "#     gen base64 string\n",
    "    img = cv2.imread(image,cv2.COLOR_BGR2RGB)   \n",
    "    retval, buffer = cv2.imencode(iii,img)\n",
    "    jpg_as_text = base64.b64encode(buffer).decode(\"utf-8\")\n",
    "    line_shape = line_shape + jpg_as_text\n",
    "    \n",
    "#     get image height width\n",
    "    height, width, channels = img.shape\n",
    "    line_shape = line_shape + '\", \"imageHeight\": '+str(height)+', \"imageWidth\": '+str(width)+' }'\n",
    "\n",
    "#     save json file\n",
    "    f = open(iii[0:-4]+\".json\", \"w\")\n",
    "    f.write(line_shape)\n",
    "    f.close()"
   ]
  },
  {
   "cell_type": "code",
   "execution_count": 4,
   "metadata": {
    "scrolled": true
   },
   "outputs": [],
   "source": []
  },
  {
   "cell_type": "code",
   "execution_count": null,
   "metadata": {},
   "outputs": [],
   "source": []
  }
 ],
 "metadata": {
  "kernelspec": {
   "display_name": "Python 3",
   "language": "python",
   "name": "python3"
  },
  "language_info": {
   "codemirror_mode": {
    "name": "ipython",
    "version": 3
   },
   "file_extension": ".py",
   "mimetype": "text/x-python",
   "name": "python",
   "nbconvert_exporter": "python",
   "pygments_lexer": "ipython3",
   "version": "3.7.3"
  }
 },
 "nbformat": 4,
 "nbformat_minor": 2
}
